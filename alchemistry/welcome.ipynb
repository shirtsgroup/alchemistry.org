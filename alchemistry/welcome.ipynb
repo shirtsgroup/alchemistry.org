{
 "cells": [
  {
   "cell_type": "markdown",
   "id": "0b1c6ed0-ac32-46e3-8096-3b17d1f906bb",
   "metadata": {},
   "source": [
    "```{image} images/Alchemistry.jpg\n",
    ":alt: Welcome to Alchemistry.org\n",
    ":align: center\n",
    "```"
   ]
  },
  {
   "cell_type": "markdown",
   "id": "42820110",
   "metadata": {},
   "source": [
    "(landing)=\n",
    "# What is Alchemistry?"
   ]
  },
  {
   "cell_type": "markdown",
   "id": "sufficient-suite",
   "metadata": {},
   "source": [
    "Alchemical free energy calculations employ unphysical (“alchemical”) intermediates to estimate the free energies of various physical processes. Such process include ligand binding to a protein receptor, the transfer of a small molecule from gas to water, or the free energy of a mutation of a side chain. This approach provides not only a quantitative and rigorous method for computing free energies, but often provides insight into the dominant interactions driving binding."
   ]
  },
  {
   "cell_type": "markdown",
   "id": "52592f1b-c79a-47c0-ab0f-caf7523af3e2",
   "metadata": {},
   "source": [
    "## Getting Started with Free Energy Methods\n",
    "This site is designed to both give novices best practices information about how to perform free energy calculations, and to provide an ongoing reference for the current state of research into methods for calculating free energies."
   ]
  },
  {
   "cell_type": "code",
   "execution_count": null,
   "id": "5f9dcfa9-0fc3-437a-aeaa-268c3d2827a4",
   "metadata": {},
   "outputs": [],
   "source": []
  }
 ],
 "metadata": {
  "kernelspec": {
   "display_name": "Python 3 (ipykernel)",
   "language": "python",
   "name": "python3"
  },
  "language_info": {
   "codemirror_mode": {
    "name": "ipython",
    "version": 3
   },
   "file_extension": ".py",
   "mimetype": "text/x-python",
   "name": "python",
   "nbconvert_exporter": "python",
   "pygments_lexer": "ipython3",
   "version": "3.12.3"
  },
  "vscode": {
   "interpreter": {
    "hash": "1e681b6f81db57470e7e3f73bde524406b83463aa6cc205193b50b915b78b906"
   }
  }
 },
 "nbformat": 4,
 "nbformat_minor": 5
}
