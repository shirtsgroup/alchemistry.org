{
 "cells": [
  {
   "cell_type": "markdown",
   "id": "3fb82f10-7d82-474f-9b08-d7b2d72aae21",
   "metadata": {},
   "source": [
    "# 2024 Workshop on Free Energy Methods in Drug Design"
   ]
  },
  {
   "cell_type": "markdown",
   "id": "51ff7f91-236b-4b06-b639-a04ab9f09836",
   "metadata": {},
   "source": [
    "Our goal in this workshop is to bring together experts from pharma and supporting industries, as well as academia, in an intense and focused workshop to identify challenges and help chart the path forward. We are particularly interested in hearing about use cases, pitfalls and their solutions. We also firmly believe we can learn a great deal from failure, so we hope participants will go beyond just highlighting success stories to provide more detailed insight into successes and failures.\n",
    "\n",
    "Previous iterations of this workshop: https://alchemistry.org/wiki/Events\n",
    "\n",
    "## Dates and Location\n",
    "The conference is scheduled for 13-15 May 2024, at the [Scheltema in Leiden, The Netherlands - Marktsteeg 1, 2312 CS](https://www.scheltemaleiden.nl/en/)\n",
    "\n",
    "Directly following Alchemistry 2024, the [Open Molecular Software Foundation](https://www.linkedin.com/company/omsf) will host it's annual gathering - OMSF Symposium 2024. This event will bring together OMSF's community of software developers, academics, and industry partners, focusing on its [open source molecular software projects](https://omsf.io/projects/project-list/) and their impact. For more information and registration please see [this page.](https://omsf.notion.site/OMSF-Symposium-2024-077c73e9d80a4a0ba01fcbafd20885fa)\n",
    "\n",
    "```{image} ../images/events/2024WorkFEDD/Scheltema.jpeg\n",
    ":width: 500px\n",
    ":alt: https://www.scheltemaleiden.nl/en/\n",
    "```"
   ]
  },
  {
   "cell_type": "markdown",
   "id": "53f3b06f-bd4c-4561-b1b6-650da9f7a84a",
   "metadata": {},
   "source": [
    "## Registration \n",
    "\n",
    "Registration for this event has opened. This is managed by our partner company Congress by Design and can be completed by following [this link.](https://cbd.eventsair.com/alchemical-free-energy-workshop-2024/registration/Site/Register)\n",
    "\n",
    "For this event no further abstracts will be accepted until further notice. "
   ]
  },
  {
   "cell_type": "markdown",
   "id": "a9ca1037-9bf7-4722-8588-09f017e86e61",
   "metadata": {},
   "source": [
    "## Confirmed speakers & workshop themes \n",
    "\n",
    "We are honored to host Prof. Max Welling for a keynote on May 14th. Prof. Welling is a renowned and highly influential figure in machine-learning and will give his insights on its role in science.\n",
    "\n",
    "```{image} ../images/events/2024WorkFEDD/Day1.png\n",
    ":width: 400px\n",
    ":alt: FEworkshop_program_1\n",
    "```\n",
    "```{image} ../images/events/2024WorkFEDD/Day2.png\n",
    ":width: 400px\n",
    ":alt: FEworkshop_program_2\n",
    "```"
   ]
  },
  {
   "cell_type": "markdown",
   "id": "8a1db422-109a-41d6-8e8e-76170f59b94e",
   "metadata": {},
   "source": [
    "## Accommodation\n",
    "\n",
    "You will need to book your own stay in Leiden; there are many hotels in Leiden that will be able to house you. There are many small hotels close to the event venue - here we are listing several of the major hotels that have confirmed vacancies during the week of the workshop and are 10 minutes away on foot:\n",
    "\n",
    "- [Golden Tulip](https://goldengreenhotels.nl/en/)\n",
    "\n",
    "- [Ibis](https://all.accor.com/hotel/8087/index.en.shtml?utm_campaign=seo+maps&utm_medium=seo+maps&utm_source=google+Maps)\n",
    "\n",
    "- [VIC](https://www.hotelvic.nl/en)"
   ]
  },
  {
   "cell_type": "markdown",
   "id": "b6d5cb2d-0a80-418a-b5b0-529fbf7e97d9",
   "metadata": {},
   "source": [
    "## Travel & public transport\n",
    "\n",
    "Public transport is very well connected in The Netherlands. Although rechargeable public transport cards can be purchased, it is recommended to use your contactless bank card for checking in and out of trains, buses, trams and subways. In principle all Mastercard and Visa cards will work, for more information see [the national railway website FAQ](https://www.ns.nl/en/customer-service/payment/ovpay.html)\n",
    "\n",
    "To reach Leiden from Schiphol airport, you can take a train (every 10-15 minutes from Schiphol), or a taxi (~25 min drive, recommended to pre-book to save costs)."
   ]
  },
  {
   "cell_type": "markdown",
   "id": "404051a0-5a99-4416-9f38-5da93407bed4",
   "metadata": {},
   "source": [
    "## Social Media \n",
    "\n",
    "* X hashtags: <tt>[#alchemy2024](https://twitter.com/hashtag/alchemy2024)</tt>\n",
    "* Slack: <tt>[https://alchemistry.slack.com https://alchemistry.slack.com]</tt>\n",
    "\n",
    "\n",
    "Join the slack workspace using <tt>[this link](https://join.slack.com/t/alchemistry/shared_invite/zt-1ujdwluzr-BQDUasqHrpnoL_A5gUcG1w)</tt>"
   ]
  },
  {
   "cell_type": "markdown",
   "id": "eb029bd2-e405-4aa2-b9ba-80738ad9fe97",
   "metadata": {},
   "source": [
    "## Sponsors \n",
    "\n",
    "We are currently looking for sponsorship for the event. If your organisation would be interested, please contact Vytautas Gapsys."
   ]
  },
  {
   "cell_type": "markdown",
   "id": "bc2da4f7-f5cc-4a5d-b196-78120d22a07e",
   "metadata": {},
   "source": [
    "## Posters \n",
    "\n",
    "During this workshop we will be able to host 30-40 poster presentation slots. There will be two poster prizes hosted by **Acellera** and **MODSIM Pharma**, respectively. If you wish to print your poster in Leiden, we recommend using a local copying store called [CopyCopy (an 8-min walk from the venue)](https://www.copycopyleiden.nl/service/posters-2/): you can email them a PDF of your poster on Friday 11th May at the latest. They are not opened on Sundays, but are available for pickup on Monday 13th May between 1PM and 6PM.\n",
    "\n",
    "```{image} ../images/brands/Acellera_TX_logo_300.png\n",
    ":width: 400px\n",
    ":alt: Sponsor Acellera\n",
    "```\n",
    "```{image} ../images/brands/Helix-blue.jpeg\n",
    ":width: 400px\n",
    ":alt: Sponsor Modsim\n",
    "```"
   ]
  },
  {
   "cell_type": "markdown",
   "id": "0dd9fd22-a6c2-4831-ab5c-dda8daedce19",
   "metadata": {},
   "source": [
    "## Organizing Committee \n",
    "\n",
    "* Irfan Alibay - irfan.alibay@omsf.io\n",
    "* James Eastwood\n",
    "* Vytautas Gapsys - vytautas.gapsys@mpinat.mpg.de\n",
    "* Bert de Groot\n",
    "* Hugo Gutierrez De Teran\n",
    "* David Hahn\n",
    "* Willem Jespers\n",
    "* Dmitry Lupyan - dmitry.lupyan@schrodinger.com\n",
    "* Jenke Scheen - jenke.scheen@choderalab.org\n",
    "* Barbara Zarzycka"
   ]
  },
  {
   "cell_type": "markdown",
   "id": "0c5e91ee-66f4-4e28-907a-8d1268a8bb1e",
   "metadata": {},
   "source": [
    "## Conference Code of Conduct \n",
    "\n",
    "All attendees, speakers, sponsors and volunteers at our conference are required to agree with the following code of conduct. Organisers will enforce this code throughout the event. We expect cooperation from all participants to help ensure a safe environment for everybody.\n",
    "\n",
    "Need Help? Please contact the organising committee either in person or via email. Members of the organising committee are listed above.\n",
    "\n",
    "### The Quick Version \n",
    "Our conference is dedicated to providing a harassment-free conference experience for everyone, regardless of gender, gender identity and expression, age, sexual orientation, disability, physical appearance, body size, race, ethnicity, religion (or lack thereof), or technology choices. We do not tolerate harassment of conference participants in any form. Sexual language and imagery is not appropriate for any conference venue, including talks, workshops, parties, Twitter and other online media. Conference participants violating these rules may be sanctioned or expelled from the conference without a refund at the discretion of the conference organisers.\n",
    "\n",
    "### The Less Quick Version \n",
    "Harassment includes offensive verbal comments related to gender, gender identity and expression, age, sexual orientation, disability, physical appearance, body size, race, ethnicity, religion, technology choices, sexual images in public spaces, deliberate intimidation, stalking, following, harassing photography or recording, sustained disruption of talks or other events, inappropriate physical contact, and unwelcome sexual attention.\n",
    "\n",
    "Participants asked to stop any harassing behavior are expected to comply immediately.\n",
    "\n",
    "Sponsors are also subject to the anti-harassment policy. In particular, sponsors should not use sexualised images, activities, or other material. Booth staff (including volunteers) should not use sexualised clothing/uniforms/costumes, or otherwise create a sexualised environment.\n",
    "\n",
    "If a participant engages in harassing behavior, the conference organisers may take any action they deem appropriate, including warning the offender or expulsion from the conference with no refund.\n",
    "\n",
    "If you are being harassed, notice that someone else is being harassed, or have any other concerns, please contact a member of the organising committee immediately. \n",
    "\n",
    "A member of the organising committee will be happy to help participants contact local law enforcement, provide escorts, or otherwise assist those experiencing harassment to feel safe for the duration of the conference. We value your attendance.\n",
    "\n",
    "We expect participants to follow these rules at conference and workshop venues and conference-related social events.\n",
    "\n",
    "The code of conduct text was taken from https://github.com/confcodeofconduct/confcodeofconduct.com in a slightly adapted form."
   ]
  },
  {
   "cell_type": "code",
   "execution_count": null,
   "id": "b26e232a-9736-4e9f-8de5-85c49fb7a97b",
   "metadata": {},
   "outputs": [],
   "source": []
  }
 ],
 "metadata": {
  "kernelspec": {
   "display_name": "Python 3 (ipykernel)",
   "language": "python",
   "name": "python3"
  },
  "language_info": {
   "codemirror_mode": {
    "name": "ipython",
    "version": 3
   },
   "file_extension": ".py",
   "mimetype": "text/x-python",
   "name": "python",
   "nbconvert_exporter": "python",
   "pygments_lexer": "ipython3",
   "version": "3.12.3"
  }
 },
 "nbformat": 4,
 "nbformat_minor": 5
}
