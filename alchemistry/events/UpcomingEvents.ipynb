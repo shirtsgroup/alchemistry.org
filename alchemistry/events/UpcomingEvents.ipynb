{
 "cells": [
  {
   "cell_type": "markdown",
   "id": "6bfedfab-256b-4ff1-b0e7-5c6e2690c9fa",
   "metadata": {},
   "source": [
    "(Upcoming)=\n",
    "# Upcoming Events"
   ]
  },
  {
   "cell_type": "markdown",
   "id": "bad855e7-d09f-43fa-a5ed-86c4ddde1db0",
   "metadata": {},
   "source": [
    "* [](2024WorkFEDD)"
   ]
  }
 ],
 "metadata": {
  "kernelspec": {
   "display_name": "Python 3 (ipykernel)",
   "language": "python",
   "name": "python3"
  },
  "language_info": {
   "codemirror_mode": {
    "name": "ipython",
    "version": 3
   },
   "file_extension": ".py",
   "mimetype": "text/x-python",
   "name": "python",
   "nbconvert_exporter": "python",
   "pygments_lexer": "ipython3",
   "version": "3.12.3"
  }
 },
 "nbformat": 4,
 "nbformat_minor": 5
}
