{
 "cells": [
  {
   "cell_type": "markdown",
   "id": "94021f0d-9183-45d1-b54a-c20b9ee86846",
   "metadata": {},
   "source": [
    "(Past)=\n",
    "# Past Events"
   ]
  },
  {
   "cell_type": "markdown",
   "id": "46382f60-5eea-4f04-812e-d462f7810bde",
   "metadata": {},
   "source": [
    "* **[[2023 Workshop on Free Energy Methods in Drug Design]]**\n",
    "* **[[2022 Virtual Workshop on Free Energy Methods in Drug Design]]**\n",
    "* **[[2020 Workshop on Free Energy Methods in Drug Design]]**\n",
    "* **[http://pmx.mpibpc.mpg.de/workshop_alchemistry2019/index.html 2019 Alchemical Free Energy Workshop]**\n",
    "* **[[2018 Workshop on Free Energy Methods, Kinetics and Markov State Models in Drug Design]]**\n",
    "* **[[2016 Workshop on Free Energy Methods in Drug Design: Targeting Cancer]]**\n",
    "* **[[2016 Workshop on Kinetics and Markov State Models in Drug Design]]**\n",
    "* **[[2014 Workshop on Free Energy Methods in Drug Design]]**\n",
    "* **[[2012 Workshop on Free Energy Methods in Drug Design]]**\n",
    "* **[[2010 Workshop on Free Energy Methods in Drug Design]]**\n"
   ]
  }
 ],
 "metadata": {
  "kernelspec": {
   "display_name": "Python 3 (ipykernel)",
   "language": "python",
   "name": "python3"
  },
  "language_info": {
   "codemirror_mode": {
    "name": "ipython",
    "version": 3
   },
   "file_extension": ".py",
   "mimetype": "text/x-python",
   "name": "python",
   "nbconvert_exporter": "python",
   "pygments_lexer": "ipython3",
   "version": "3.12.3"
  }
 },
 "nbformat": 4,
 "nbformat_minor": 5
}
