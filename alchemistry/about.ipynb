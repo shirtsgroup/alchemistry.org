{
 "cells": [
  {
   "cell_type": "markdown",
   "id": "9c189433-2fdd-4afa-901f-3dff54b40519",
   "metadata": {},
   "source": [
    "(about)=\n",
    "# About the Alchemistry.org Editors"
   ]
  },
  {
   "cell_type": "markdown",
   "id": "53cb0349-2f69-4944-a68b-138a527c786c",
   "metadata": {},
   "source": [
    "Alchemistry's Editors:\n",
    "* Michael R Shirts - an associate professor at [The University of Colorado Boulder](https://www.colorado.edu/) in the department of chemical engineering, formally of [The University of Virginia](http://www.virginia.edu). He has done a number of studies on free energy methods and calculation: see [Michael Shirts' group page.](https://www.colorado.edu/chbe/michael-r-shirts)\n",
    "* Levi Naden - a Software Scientist of the [The Molecular Sciences Software Institute (MolSSI)](https://molssi.org/), formerly Postdoctoral Fellow [in the Chodera Lab](http://www.choderalab.org/) at Memorial Sloan Kettering Cancer Center, and formally a graduate student [in the Shirts Group](http://faculty.virginia.edu/shirtsgroup/people.php#grads). Background in computational free energy software development and currently CMS software development and training.\n",
    "* [David L Mobley](http://www.mobleylab.org) - an assistant professor at [University of California-Irvine](http://www.uci.edu) in the Department of Pharmaceutical Sciences and Chemistry, who works mostly on free energy calculations for ligand binding and small molecule solvation. See [David Mobley's group page.](http://www.mobleylab.org)\n",
    "* John D Chodera - an Assistant Member at the [Memorial Sloan-Kettering Cancer Center](http://www.mskcc.org) in the Computational Biology Program  He has diverse interests including free energy calculations and experimental measurements of binding affinities.\n"
   ]
  }
 ],
 "metadata": {
  "kernelspec": {
   "display_name": "Python 3 (ipykernel)",
   "language": "python",
   "name": "python3"
  },
  "language_info": {
   "codemirror_mode": {
    "name": "ipython",
    "version": 3
   },
   "file_extension": ".py",
   "mimetype": "text/x-python",
   "name": "python",
   "nbconvert_exporter": "python",
   "pygments_lexer": "ipython3",
   "version": "3.12.3"
  }
 },
 "nbformat": 4,
 "nbformat_minor": 5
}
