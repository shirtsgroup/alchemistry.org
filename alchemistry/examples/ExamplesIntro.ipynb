{
 "cells": [
  {
   "cell_type": "markdown",
   "id": "03064882-ea08-4df1-9b90-4e8d3049a9b0",
   "metadata": {},
   "source": [
    "(Examples)=\n",
    "# Examples"
   ]
  },
  {
   "cell_type": "markdown",
   "id": "400379e7-b36f-4330-b209-7a55898c8edc",
   "metadata": {},
   "source": [
    "Placeholder"
   ]
  },
  {
   "cell_type": "code",
   "execution_count": null,
   "id": "2b0fb00f-4f5f-4870-a21c-0a9aa18a67a9",
   "metadata": {},
   "outputs": [],
   "source": []
  }
 ],
 "metadata": {
  "kernelspec": {
   "display_name": "Python 3 (ipykernel)",
   "language": "python",
   "name": "python3"
  },
  "language_info": {
   "codemirror_mode": {
    "name": "ipython",
    "version": 3
   },
   "file_extension": ".py",
   "mimetype": "text/x-python",
   "name": "python",
   "nbconvert_exporter": "python",
   "pygments_lexer": "ipython3",
   "version": "3.12.3"
  }
 },
 "nbformat": 4,
 "nbformat_minor": 5
}
