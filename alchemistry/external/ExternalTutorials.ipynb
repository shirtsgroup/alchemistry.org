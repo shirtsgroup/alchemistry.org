{
 "cells": [
  {
   "cell_type": "markdown",
   "id": "97b809f5-4599-4963-a12a-ec7989bf8c0e",
   "metadata": {},
   "source": [
    "(Ext_Tut)=\n",
    "# External Tutorials"
   ]
  },
  {
   "cell_type": "markdown",
   "id": "5ca8cb2d-4422-4973-83ff-16befeb490b7",
   "metadata": {},
   "source": [
    "Placeholder"
   ]
  }
 ],
 "metadata": {
  "kernelspec": {
   "display_name": "Python 3 (ipykernel)",
   "language": "python",
   "name": "python3"
  },
  "language_info": {
   "codemirror_mode": {
    "name": "ipython",
    "version": 3
   },
   "file_extension": ".py",
   "mimetype": "text/x-python",
   "name": "python",
   "nbconvert_exporter": "python",
   "pygments_lexer": "ipython3",
   "version": "3.12.3"
  }
 },
 "nbformat": 4,
 "nbformat_minor": 5
}
