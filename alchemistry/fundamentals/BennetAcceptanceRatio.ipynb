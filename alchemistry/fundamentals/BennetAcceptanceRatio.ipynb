{
 "cells": [
  {
   "cell_type": "markdown",
   "id": "2a888987-7528-4c31-97fe-a42106e2d34e",
   "metadata": {},
   "source": [
    "(BAR)=\n",
    "# Bennett Acceptance Ratio"
   ]
  },
  {
   "cell_type": "markdown",
   "id": "168017bc-7f94-4e48-8e7d-2414d129976f",
   "metadata": {},
   "source": [
    "The Bennett Acceptance Ratio (BAR) is one of the earliest free energy methods which draws on data from multiple states to estimate the free energy difference; This method has significantly improved results over [[Exponential Averaging|EXP]]. Both EXP and [[Thermodynamic Integration|TI]] require the ensemble average from a *single* state to estimate free energies. Although TI needs the derivatives at state $k$, it does not require the configurations from any neighboring state; BAR however, *requires configuration information from two states* to estimate free energy differences.\n",
    "\n",
    "BAR works under the principal that at the same configuration, $\\vec{q}$, at two separate states, $i$ and $j$, there is a pathway connecting the two potentials and a difference of $\\Delta U_{ij}(\\vec{q})$. Because the states are in the same configuration, there is a exact relationship between the distributions of potential energy differences $\\Delta U_{ij}(\\vec{q})$ of states sampled from $i$ and $\\Delta U_{ji}(\\vec{q})$ the distribution of potential energy differences sampled from the state $j$.{{Cite| Crooks2000}}. Since it's an exact function of distributions, statistics can be applied to find the optimal way to use the information between two states, improving the free energy estimate. This is where Bennett started his derivation and, since he was the first to derive this, the method was named after him.{{Cite | Bennett1976}}"
   ]
  },
  {
   "cell_type": "markdown",
   "id": "7d23a23a-25ac-4bcd-ba0a-b8fc3f8d8256",
   "metadata": {},
   "source": [
    "## Derivation\n",
    "This derivation starts from a slightly modified version of the [[Theoretic Principals#Core Free Energy Equation | core free energy equation]]. Taking the properties of expectation values, we can write the free energy difference as\n",
    "\n",
    "$\\Delta A_{ij} = -k_{B} T \\ln \\frac{Q_j}{Q_i} = k_{B}T \\ln \\frac{\\left\\langle\\alpha(\\vec{q}) \\exp[-\\beta U_{i}(\\vec{q})]\\right\\rangle_j}{\\left\\langle\\alpha(\\vec{q}) \\exp[-\\beta U_{j}(\\vec{q})]\\right\\rangle_i}$\n",
    "\n",
    "which is true for any $\\alpha(\\vec{q})>0$ for all $\\vec{q}$. This was Bennett's start point and he then used variational calculus to select the value pf $\\alpha(\\vec{q})$ minimizing the variance of the free energy. The end result is an implicit function of the free energy, and the number of samples at each state, $n_i$ and $n_j$, and is\n",
    "\n",
    "$\\sum_{i=1}^{n_i} \\frac{1}{1 + \\exp(\\ln(n_i/n_j) + \\beta \\Delta U_{ij} - \\beta \\Delta A))} - \\sum_{j=1}^{n_j} \\frac{1}{1 + \\exp(\\ln(n_j/n_i) - \\beta \\Delta U_{ji} + \\beta \\Delta A))} = 0$\n",
    "\n",
    "which must be solved numerically. This is the full BAR equation and its full derivation can be found in Bennett's paper.{{cite|Bennett1976}} To get the equation above from Bennett's paper, you will have to take the exponential of both sides of his self-consistent Equation 12, then a bit of algebra to get the end result. This equation can also be derived from a maximum likelihood approach.{{Cite| Shirts2003}}  There are a number of other equivalent ways to express this implicit equation."
   ]
  },
  {
   "cell_type": "markdown",
   "id": "ed908939-535f-492e-aa8d-72d7d0fa9832",
   "metadata": {},
   "source": [
    "## Comparison with Other Methods\n",
    "BAR has been shown to be superior to [[Exponential Averaging|EXP]] in every way (save maybe simplicity). BAR is not only better from a practical and theoretical aspect,{{cite| Shirts2005}}{{cite| Lu2003}} and it is shown to converge to EXP in assuming all samples come from one state.{{cite|Bennett1976}}{{Cite| Shirts2003}} Even so, less phase overlap is needed to run BAR effectively.\n",
    "\n",
    "Comparing [[Thermodynamic Integration|TI]] and BAR is not such a simple thing since each approach requires very different information. Based on experience, BAR will do better than TI on average, although more details are needed to make a better comparison. One such detail is that BAR can give in fewer intermediate states the same statistical precision as TI. However, if the integrand is very smooth for TI, it will perform at the same level as BAR (examples of this are changes, not [[Intermediate States | removing]], non- and bonded parameters).{{cite|Shirts2003}}{{cite|Ytreberg2006}} One advantage that could be attributed to BAR over TI is that you do not need to calculate {{#tag:math|{{dudl}}}} and so you do not have to modify your code to do so.\n",
    "\n",
    "A variant of BAR which takes in data from more than two states has been developed, it is coincidentally called the [[Multistate Bennett Acceptance Ratio]] or MBAR for short."
   ]
  },
  {
   "cell_type": "markdown",
   "id": "ff1f1bef-6546-4231-9f20-a2517ebc4bd2",
   "metadata": {},
   "source": [
    "## Estimating Accurate Free Energies with BAR\n",
    "BAR has a very straightforward method to calculate the free energy difference between two states. It still suffers from the same [[Intermediate States#Rules of Thumb for Intermediate States|general problems]] as the other methods do with regards to variance along the pathway, what parameters are changing, sequence of change etc. and must still be treated with care. BAR can estimate free energies between many states, however, it must do this a pair at a time. As such, BAR requires information collected from $k-1$, $k$, and $k+1$ state for each configuration stored.\n",
    "\n",
    "BAR require an iterative solution but all the samples will be correlated since results are taken from adjacent states. Unlike in [[Thermodynamic Integration|TI]], however, the results are not so clean to get an error estimate. More indirect methods, such as [[Analyzing Simulation Results#Bootstrap Method | Bootstrap Sampling]] are required to get variances. Furthermore, subsampling is needed since each state can have different correlation times."
   ]
  },
  {
   "cell_type": "markdown",
   "id": "db35fa11-d6a9-4dc5-b4b6-3bd661e724dc",
   "metadata": {},
   "source": [
    "## Download BAR\n",
    "Although you could write your own BAR code for analysis, there is a free, python-based code available for download at [https://simtk.org/home/pymbar https://simtk.org/home/pymbar]. Although this site is mostly for MBAR, there is a BAR implementation bundled with it along with examples."
   ]
  },
  {
   "cell_type": "markdown",
   "id": "3867464f-f829-43b7-b52e-ea6c79039a98",
   "metadata": {},
   "source": [
    "## References\n",
    "<references>\n",
    "{{Cite| Crooks2000 | Crooks, G. E. (2000) Path-ensemble averages in systems driven far from equilibrium. *Phys. Rev. E* 61, 2361–2366. | http://www.citeulike.org/group/14929/article/9052148}}\n",
    "\n",
    "{{Cite | Bennett1976 | Bennett, C. H. (1976) Efficient Estimation of Free Energy differences from Monte Carlo Data. *J. Comput. Phys.* 22, 245–268. | http://www.citeulike.org/group/14929/article/9052076}}\n",
    "\n",
    "{{cite| Shirts2005 |Shirts, M. R., and Pande, V. S. (2005) Comparison of efficiency and bias of free energies computed by exponential averaging, the Bennett acceptance ratio, and thermodynamic integration. *J. Chem. Phys.* 122, 144107.|http://www.citeulike.org/user/ashaytan/article/2284440}}\n",
    "\n",
    "{{cite| Lu2003 |Lu, N. D., Singh, J. K., and Kofke, D. A. (2003) Appropriate methods to combine forward and reverse free-energy perturbation averages. *J. Chem. Phys.* 118, 2977–2984.|http://www.citeulike.org/group/14929/article/9052389}}\n",
    "\n",
    "{{Cite| Shirts2003 |Shirts, M. R., Bair, E., Hooker, G., and Pande, V. S. (2003) Equilibrium free energies from nonequilibrium measurements using maximum-likelihood methods. *Phys. Rev. Let*t 91, 140601.|http://www.citeulike.org/group/14929/article/9052565}}\n",
    "\n",
    "{{cite|Ytreberg2006|Ytreberg, F. M., Swendsen, R. H., and Zuckerman, D. M. (2006) Comparison of free energy methods for molecular systems. *J. Chem. Phys.* 125, 184114.|http://www.citeulike.org/user/ashaytan/article/1699471}}\n",
    "\n",
    "</references>"
   ]
  },
  {
   "cell_type": "code",
   "execution_count": null,
   "id": "28ee3fcf-5ff9-48f2-b61c-c6ebd384e2b5",
   "metadata": {},
   "outputs": [],
   "source": []
  }
 ],
 "metadata": {
  "kernelspec": {
   "display_name": "Python 3 (ipykernel)",
   "language": "python",
   "name": "python3"
  },
  "language_info": {
   "codemirror_mode": {
    "name": "ipython",
    "version": 3
   },
   "file_extension": ".py",
   "mimetype": "text/x-python",
   "name": "python",
   "nbconvert_exporter": "python",
   "pygments_lexer": "ipython3",
   "version": "3.12.3"
  }
 },
 "nbformat": 4,
 "nbformat_minor": 5
}
