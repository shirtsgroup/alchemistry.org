{
 "cells": [
  {
   "cell_type": "markdown",
   "id": "2a888987-7528-4c31-97fe-a42106e2d34e",
   "metadata": {},
   "source": [
    "(BAR)=\n",
    "# Bennett Acceptance Ratio"
   ]
  },
  {
   "cell_type": "markdown",
   "id": "168017bc-7f94-4e48-8e7d-2414d129976f",
   "metadata": {},
   "source": [
    "The Bennett Acceptance Ratio (BAR) is one of the earliest free energy methods which draws on data from multiple states to estimate the free energy difference; This method has significantly improved results over [EXP](exp_avg). Both EXP and [TI](TI) require the ensemble average from a *single* state to estimate free energies. Although TI needs the derivatives at state $k$, it does not require the configurations from any neighboring state; BAR however, *requires configuration information from two states* to estimate free energy differences.\n",
    "\n",
    "BAR works under the principal that at the same configuration, $\\vec{q}$, at two separate states, $i$ and $j$, there is a pathway connecting the two potentials and a difference of $\\Delta U_{ij}(\\vec{q})$. Because the states are in the same configuration, there is a exact relationship between the distributions of potential energy differences $\\Delta U_{ij}(\\vec{q})$ of states sampled from $i$ and $\\Delta U_{ji}(\\vec{q})$ the distribution of potential energy differences sampled from the state $j$.{cite}`Crooks2000`. Since it's an exact function of distributions, statistics can be applied to find the optimal way to use the information between two states, improving the free energy estimate. This is where Bennett started his derivation and, since he was the first to derive this, the method was named after him.{cite}`Bennett1976`"
   ]
  },
  {
   "cell_type": "markdown",
   "id": "7d23a23a-25ac-4bcd-ba0a-b8fc3f8d8256",
   "metadata": {},
   "source": [
    "## Derivation\n",
    "This derivation starts from a slightly modified version of the [core free energy equation](core_eq). Taking the properties of expectation values, we can write the free energy difference as\n",
    "\n",
    "$\\Delta A_{ij} = -k_{B} T \\ln \\frac{Q_j}{Q_i} = k_{B}T \\ln \\frac{\\left\\langle\\alpha(\\vec{q}) \\exp[-\\beta U_{i}(\\vec{q})]\\right\\rangle_j}{\\left\\langle\\alpha(\\vec{q}) \\exp[-\\beta U_{j}(\\vec{q})]\\right\\rangle_i}$\n",
    "\n",
    "which is true for any function $\\alpha(\\vec{q})$ as long as $\\alpha(\\vec{q})>0$ for all $\\vec{q}$. This was Bennett's start point and he then used variational calculus to select the value pf $\\alpha(\\vec{q})$ minimizing the variance of the free energy. The end result is an implicit function of the free energy $\\Delta A$ and the number of samples at each state, $n_i$ and $n_j$, and can be written as is\n",
    "\n",
    "$\\sum_{i=1}^{n_i} \\frac{1}{1 + \\exp\\left(\\ln\\left(\\frac{n_i}{n_j}\\right) + \\beta \\Delta U_{ij} - \\beta \\Delta A)\\right)} - \\sum_{j=1}^{n_j} \\frac{1}{1 + \\exp\\left(\\ln\\left(\\frac{n_j}{n_i}\\right) - \\beta \\Delta U_{ji} + \\beta \\Delta A)\\right)} = 0$\n",
    "\n",
    "which must be solved numerically. This is the full BAR equation and its full derivation can be found in Bennett's paper{cite}`Bennett1976`. To get the equation above from Bennett's paper, you will have to take the exponential of both sides of his self-consistent Equation 12, then a bit of algebra to get the end result. This equation can also be derived from a maximum likelihood approach.{cite}`Shirts2003a`  There are a number of other equivalent ways to express this implicit equation."
   ]
  },
  {
   "cell_type": "markdown",
   "id": "ed908939-535f-492e-aa8d-72d7d0fa9832",
   "metadata": {},
   "source": [
    "## Comparison with Other Methods\n",
    "BAR has been shown to be superior to [EXP](exp_avg) in every way (save maybe simplicity). BAR is not only better from a practical and theoretical aspect,{cite}`Shirts2005,Lu2003` and it is shown to converge to EXP in assuming all samples come from one state.{cite}`Bennett1976,Shirts2003a` Even so, less phase overlap is needed to run BAR effectively.\n",
    "\n",
    "Comparing [TI](TI) and BAR is not such a simple thing since each approach requires very different information. Based on experience, BAR will do better than TI on average, although more details are needed to make a better comparison. One such detail is that BAR can give in fewer intermediate states the same statistical precision as TI. However, if the integrand is very smooth for TI, it will perform at the same level as BAR (examples of this are changes, not [removing](Intermediate_States), non- and bonded parameters).{cite}`Shirts2003a,Ytreberg2006` One advantage that could be attributed to BAR over TI is that you do not need to calculate $\\frac{dU}{d\\lambda}$ and so you do not have to modify your code to do so.\n",
    "\n",
    "A variant of BAR which takes in data from more than two states has been developed, it is coincidentally called the [Multistate Bennett Acceptance Ratio](MBAR) or MBAR for short."
   ]
  },
  {
   "cell_type": "markdown",
   "id": "ff1f1bef-6546-4231-9f20-a2517ebc4bd2",
   "metadata": {},
   "source": [
    "## Estimating Accurate Free Energies with BAR\n",
    "BAR has a very straightforward method to calculate the free energy difference between two states. It still suffers from the same [general problems](IS_rules) as the other methods do with regards to variance along the pathway, what parameters are changing, sequence of change etc. and must still be treated with care. BAR can estimate free energies between many states, however, it must do this a pair at a time. As such, BAR requires information collected from $k-1$, $k$, and $k+1$ state for each configuration stored.\n",
    "\n",
    "BAR require an iterative solution but the estimates of free energies between states $1 \\rightarrow 2$, $2 \\rightarrow 3$, $2 \\rightarrow 3$ and so forth will be correlated, because the free energy difference calculated between state $i-1$ to $i$ and the free energy difference between $i$ and $i+1$ both use the same samples from state $i$. Therefore, unlike [TI](TI), it is not so clean to get an error estimate. More indirect methods, such as [Bootstrap Sampling](bootstrap) are required to get variances. Furthermore, subsampling is needed since each state can have different correlation times."
   ]
  },
  {
   "cell_type": "markdown",
   "id": "db35fa11-d6a9-4dc5-b4b6-3bd661e724dc",
   "metadata": {},
   "source": [
    "## Download BAR\n",
    "Although you could write your own BAR code for analysis, there is a free, python-based code available for download at [https://github.com/choderalab/pymbar](https://github.com/choderalab/pymbar). Although this site is mostly for MBAR, there is a BAR implementation bundled with it along with examples. It is also available at `pip` and `conda` under the name `PyMBAR`."
   ]
  }
 ],
 "metadata": {
  "kernelspec": {
   "display_name": "Python 3 (ipykernel)",
   "language": "python",
   "name": "python3"
  },
  "language_info": {
   "codemirror_mode": {
    "name": "ipython",
    "version": 3
   },
   "file_extension": ".py",
   "mimetype": "text/x-python",
   "name": "python",
   "nbconvert_exporter": "python",
   "pygments_lexer": "ipython3",
   "version": "3.11.5"
  }
 },
 "nbformat": 4,
 "nbformat_minor": 5
}
