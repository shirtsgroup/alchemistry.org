{
 "cells": [
  {
   "cell_type": "markdown",
   "id": "0325809e-4725-46c9-b55e-d72fa467d43b",
   "metadata": {},
   "source": [
    "(MBAR)=\n",
    "# Multistate Bennett Acceptance Ratio"
   ]
  },
  {
   "cell_type": "markdown",
   "id": "5cb0c113-cee0-4a31-838d-12ef240546f4",
   "metadata": {},
   "source": [
    "The Multistate Bennett Acceptance Ratio (MBAR){{cite|Shirts2008}} is a direct extension to [](BAR) as it allows for assessing data from all states, and predicting the free energy at an unsampled state. MBAR reduces to BAR in the limit that only two states are sampled. This equation of free energy calculations can also be seen as a zero-width bin [](WHAM). \n",
    "\n",
    "Much like WHAM, the free energies provided by this method are only a statistical estimator, however, MBAR has been shown to have the lowest variance estimator to date."
   ]
  },
  {
   "cell_type": "markdown",
   "id": "b8bd0716-2d6a-4e59-b961-f7ac99e15b37",
   "metadata": {},
   "source": [
    "## Derivation\n",
    "MBAR is derived from a set of $K \\times K$ weighting functions, $\\alpha_{i,j}(\\vec{q})$, that minimized the variance during the reweighting across the board. Starting from our [core free energy equation](core_eq), we have\n",
    "\n",
    "$\\displaystyle\\Delta A_{ij} = -\\beta^{-1} \\ln\\frac{Q_j}{Q_i}$\n",
    "\n",
    "We can also manipulate the same identity Bennett used when starting his derivation{{Cite | Bennett1976}} and then a one extra bit to come up with the relation\n",
    "\n",
    "$Q_i\\left\\langle\\alpha_{ij}\\exp\\left(-\\beta U_j\\right)\\right\\rangle_i = Q_j\\left\\langle\\alpha_{ij}\\exp\\left(-\\beta U_i\\right)\\right\\rangle_j$\n",
    "\n",
    "Although this may not seem like much, it does allow us to write out the following:\n",
    "\n",
    "$\\displaystyle \\sum\\limits_{j=1}^K \\frac{\\hat{Q_i}}{N_i} \\sum\\limits_{n=1}^{N_i} \\alpha_{ij}\\exp\\left(-\\beta U_j(\\vec{q}_{i,n})\\right) = \\sum\\limits_{j=1}^K \\frac{\\hat{Q_j}}{N_j} \\sum\\limits_{n=1}^{N_j} \\alpha_{ij}\\exp\\left(-\\beta U_i(\\vec{q}_{j,n})\\right)$\n",
    "\n",
    "assuming we use the empirical estimator for the expectation values of $\\left\\langle g \\right\\rangle_i = N_i^{-1}\\sum_{n=1}^{N_i}g(\\vec{q}_{i,n})$\n",
    "\n",
    "Choosing the optimal $\\alpha_{ij}$ can be done by looking through the literature at extended bridge sampling.{{cite|Tan2004}} We then get an $\\alpha_{ij}$ of:\n",
    "\n",
    "$\\displaystyle \\alpha_{ij} = \\frac{N_j \\hat{c_j}^{-1}}{\\sum\\limits_{k=1}^K N_k \\hat{c_k}^{-1} \\exp\\left(-\\beta U_k \\right)}$.\n",
    "\n",
    "After making all the necessary substitutions, we can get an expression for an estimated free energy of:\n",
    "\n",
    "$\\displaystyle \\hat{A_i} = -\\beta^{-1} \\ln \\sum\\limits_{j=1}^K \\sum\\limits_{n=1}^{N_j} \\frac{\\exp\\left[-\\beta U_i\\right]}{\\sum_{k=1}^K N_k \\exp\\left[\\beta\\hat{A_k} - \\beta U_k\\right]}$.\n",
    "\n",
    "One of the first things you should notice is that we have a *single* free energy, not a difference. This is not a typo, but the free energies for a given set of states is only uniquely determined up to an additive constant. Because of this, one free energy must be taken in reference and thus we are once again calculating free energy differences.\n",
    "\n",
    "### Reduced potential \n",
    "\n",
    "It is important to note that the $U$ that appears in the MBAR derivation and equation is not only valid for potential energies, but any generalized/reduced potential as a function of pressure, volume, chemical potential, and number of particles. \n",
    "For example, in a general form, we can take some subset of the additive terms in the following to define the reduced potential $u_i(x)$ for thermodynamic state $i$:\n",
    "$\\displaystyle u_i(x) \\equiv \\beta_i [ U_i(x) + p_i V(x) + {\\bf \\mu}_i^\\mathrm{T} {\\bf N}(x) ]$\n",
    "The reduced potential function is uniquely defined by some combination of thermodynamic parameters $\\beta_i$ denoting the inverse temperature, $U_i(x)$ denoting the potential energy function, $p_i$ denoting the pressure, and ${\\bf \\mu}_i$ denoting the chemical potential of one or more components of the system.\n",
    "These latter two thermodynamic variables are conjugate to the box volume $V(x)$ and particle numbers ${\\bf N}(x)$.\n",
    "Use of the reduced potential simplifies the MBAR equations and generalizes them to the computation of arbitrary reduced free energy differences $\\Delta f_{ij} \\equiv \\beta_j A_j - \\beta_i A_i$ among states.\n",
    "$\\displaystyle \\hat{f_i} = -\\ln \\sum\\limits_{j=1}^K \\sum\\limits_{n=1}^{N_j} \\frac{\\exp\\left[-u_i(x_{nj})\\right]}{\\sum_{k=1}^K N_k \\exp\\left[\\hat{f_k} - u_k(x_{nj})\\right]}$.\n",
    "\n",
    "In the sum above $x_{nj}$ indicates the $n$th sample from the $j$th state.   Interestingly, in this formula, it actually doesn't matter which sample comes from which state, so it can be rewritten as a sum over all $N = \\sum_{j=1}^K N_j$, so that we have:\n",
    "$\\displaystyle \\hat{f_i} = -\\ln \\sum\\limits_{n=1}^{N} \\frac{\\exp\\left[-u_i(x_{n})\\right]}{\\sum_{k=1}^K N_k \\exp\\left[\\hat{f_k} - u_k(x_{n})\\right]}$\n",
    "\n",
    "Finally, one can rewrite this as:\n",
    "$\\displaystyle \\hat{f_i} = -\\ln \\left\\langle \\frac{\\exp\\left[-u_i(x_{n})\\right]}{\\sum_{k=1}^K \\frac{N_k}{N} \\exp\\left[\\hat{f_k} - u_k(x_{n})\\right]}\\right\\rangle $\n",
    "\n",
    "Where the ensemble averaged over is the **mixture ensemble** that consist of samples taken from each state $i$ $\\frac{N_i}{N}$th of the time.\n",
    "\n",
    "Remember always **the free energy will change depending on which reduced potential you use,** so please take this into account when working with MBAR."
   ]
  },
  {
   "cell_type": "markdown",
   "id": "7d8bd0bf-4260-484f-9284-0071e2f55aca",
   "metadata": {},
   "source": [
    "## Estimating Free Energies with MBAR\n",
    "MBAR provides the direct equation to find free energies as show above assuming you have the energies. This can be rather difficult to implement for beginners since this does require iterative solutions like BAR (note: see the [free, Python implementation](#dl_mbar) below). Despite this, MBAR still has the lowest variance of all the other methods listed under the [theory](fundamentals) section of the fundamentals. Further, MBAR has a direct way to calculate errors (see paper{{cite|Shirts2008}} for derivation).\n",
    "\n",
    "You will need a complete set of $\\Delta U_{k,j}$ for all $K$ states for MBAR to work, just like you do in [](WHAM). Fortunately, you can do most of this in post processing if need be. Once again, you do not *need* to calculate $\\Delta U_{k,k}$, but it is still a good self check to ensure the reweighting method is working correctly; all the remaining checks for [WHAM](wham_usage) hold as well and should be followed when analyzing data."
   ]
  },
  {
   "cell_type": "markdown",
   "id": "3db87126-3d5b-4e63-8bc7-3685cac3187e",
   "metadata": {},
   "source": [
    "(dl_mbar)=\n",
    "## Download MBAR\n",
    "MBAR may seem like a daunting set of equations to program yourself, so the authors have provided a Python implementation of MBAR for anyone to use, free of charge at http://github.com/choderalab/pymbar, with a number of examples for a variety of situations at  http://github.com/choderalab/pymbar-examples. The software comes with examples and uses cases. Also bundled with it are the tools to compute expectation values and an implementation of BAR."
   ]
  },
  {
   "cell_type": "markdown",
   "id": "05c51e5c-4adb-47f4-a7ac-e6ad9a525c9a",
   "metadata": {},
   "source": [
    "## References\n",
    "<references>\n",
    "{{cite|Shirts2008|Shirts, M. R., and Chodera, J. D. (2008) Statistically optimal analysis of samples from multiple equilibrium states. *J. Chem. Phys.* 129, 129105.|http://www.citeulike.org/user/jamesr/article/3360542}}\n",
    "\n",
    "{{Cite | Bennett1976 | Bennett, C. H. (1976) Efficient Estimation of Free Energy differences from Monte Carlo Data. *J. Comput. Phys.* 22, 245–268. | http://www.citeulike.org/group/14929/article/9052076}}\n",
    "\n",
    "{{cite|Tan2004|Tan, Z. (2004). On a Likelihood Approach for Monte Carlo Integration. *J. Am. Stat. Assoc.*, 99(468), 1027–1036.}}\n",
    "</references>"
   ]
  },
  {
   "cell_type": "code",
   "execution_count": null,
   "id": "9f7bf493-a014-474d-8cf7-d5959700b3ca",
   "metadata": {},
   "outputs": [],
   "source": []
  }
 ],
 "metadata": {
  "kernelspec": {
   "display_name": "Python 3 (ipykernel)",
   "language": "python",
   "name": "python3"
  },
  "language_info": {
   "codemirror_mode": {
    "name": "ipython",
    "version": 3
   },
   "file_extension": ".py",
   "mimetype": "text/x-python",
   "name": "python",
   "nbconvert_exporter": "python",
   "pygments_lexer": "ipython3",
   "version": "3.12.3"
  }
 },
 "nbformat": 4,
 "nbformat_minor": 5
}
