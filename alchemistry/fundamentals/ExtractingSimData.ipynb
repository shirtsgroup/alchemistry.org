{
 "cells": [
  {
   "cell_type": "markdown",
   "id": "16e9c987-78cc-4479-aa6a-cb1651296d28",
   "metadata": {},
   "source": [
    "(Pulling_Sim_Data)=\n",
    "# Extracting Simulation Data"
   ]
  },
  {
   "cell_type": "markdown",
   "id": "f797f174-867b-4bd4-8137-ca7c5f969a94",
   "metadata": {},
   "source": [
    "Once you have actually run your simulations, you now need to extract the correct information and in a meaningful way. It is unfortunately not as easy as simply running all the data through a master analysis program; one must first choose how they will analyze the data (e.g. using any of the analysis methods shown in the theory section), then ensure that your data is both independent and uncorrelated [as discussed previously](Runnning_Sims)."
   ]
  },
  {
   "cell_type": "markdown",
   "id": "1edaee77-6c96-4567-a568-73aaf2857b37",
   "metadata": {},
   "source": [
    "## Extracting the Correct Information\n",
    "For this step, we must ensure that the data we are extracting from our simulation is meaningful to the analysis technique we will run. Recall that each method needs different information\n",
    "\n",
    "* [TI](TI) requires $\\frac{dU}{d\\lambda}$ at each $\\vec{q}$ point.\n",
    "* [EXP](exp_avg) needs *either* $\\Delta  U_{k,k+1}(\\vec{q})$ or $\\Delta U_{k,k-1}(\\vec{q})$ depending on which direction EXP is being operated in. \n",
    "* [BAR](BAR) must have *both* $\\Delta  U_{k,k+1}(\\vec{q})$ and $\\Delta U_{k,k-1}(\\vec{q})$ between all pairs of states.\n",
    "* [WHAM](WHAM) and [MBAR](MBAR) have to have the complete set of $\\Delta  U_{k,j}(\\vec{q})$ with $j=1\\ldots K$ along the entire transformation path; WHAM must have this information binned.\n",
    "\n",
    "The potential derivative required for TI must generally be calculated during the simulation; it cannot be postprocessed by a code that does not evaluate the derivatives. The potential energy differences required for EXP, BAR, MBAR, and WHAM be calculated either during the simulation or in post-processing. We recommend calculating the potential differences in code when possible to avoid extra overhead and possible errors produced by running the simulation twice, and to reduce the amount of stored information. Although TI must be usually be calculated in code, as it requires the derivative, there is one condition under which it actually has the fastest computation time. If the alchemical path you have chosen is a [linear alchemical path](linear_xform), then you get\n",
    "\n",
    "$\\frac{dU}{d\\lambda}=U_0(\\vec{q}) - U_1(\\vec{q})$\n",
    "\n",
    "which can be calculated with only the endpoint energies. However, because of the [problems with linear paths](linear_xform), this simplification is rarely that useful."
   ]
  },
  {
   "cell_type": "markdown",
   "id": "c70b2a90-707f-48ef-b1f6-adced17f299b",
   "metadata": {},
   "source": [
    "(correlation)=\n",
    "## Correlation"
   ]
  },
  {
   "cell_type": "markdown",
   "id": "112b61f6-f793-48c9-8f9b-778934503088",
   "metadata": {},
   "source": [
    "Once we have extracted the information, we need to make sure that the data we process to extract free energies is independent. As [mentioned in running simulations](independent_samples), samples close together in time are correlated to each other in all but the most simple systems and we **must** have uncorrelated samples for our data to be meaningful. \n",
    "\n",
    "The autocorrelation time is a measure which tells us the time between effectively uncorrelated samples and a number of approaches exist for calculating it. The most common start point is to compute the normalized autocorrelation function of an observable *X* over the duration of the whole simulation, $\\mathcal{T}$.<!-- Trying to make the time T distinguishable from the temperature T--> We first make a notation of \n",
    "\n",
    "$\\displaystyle \\delta X(t) = X(t) - \\mathcal{T}^{-1}\\int_{t=0}^\\mathcal{T} X(t) dt$\n",
    "\n",
    "where we have defined the instantaneous value of *X* less the average value of *X*. We now compute the quantity:\n",
    "\n",
    "$\\displaystyle C_X(\\Delta t) = \\frac{\\int_{\\tau=0}^{\\mathcal{T}} \\delta X(\\tau) \\delta X(\\tau+\\Delta t) d\\tau}{\\int_{\\tau=0}^{\\mathcal{T}} \\delta X(\\tau)^2  d\\tau}$\n",
    "\n",
    "where $\\tau$ is the autocorrelation time. If we get $C_X(\\Delta t)=0$ both at and after $\\Delta t$, then the two samples separated by $\\Delta t$ are uncorrelated and can be treated as independent. \n",
    "\n",
    "Given that we usually have *N* samples taken at $\\delta t$ time apart, then  $C_X(\\delta t)$ is now discrete at particular $i$, requiring us to redefine our two equations:\n",
    "\n",
    "$\\delta X(i) = X(i) - \\frac{1}{N}\\sum_{i=0}^N X(i)$\n",
    "\n",
    "and\n",
    "\n",
    "$C_X(i) = \\frac{\\sum_{j=0}^{N} \\delta X(j) \\delta X(j+i)}{\\sum_{j=0}^N \\delta X(j)^2}$\n",
    "\n",
    "where the autocorrelation time, $\\tau$ is now the integral under $C_X$. One must be careful when integrating this function though as the noise, especially at more than half simulation time, becomes rather substantial. Often, the autocorrelation function can be fit to an exponential, which makes $\\tau$ the relaxation time of the exponential function. A good rule of thumb is that simulations should run a minimum 50$\\tau$ as an estimate since longer correlation times may not be detected in short simulations. Once you have $\\tau$, under standard statistical assumptions, samples can be considered independent if they are spaced by 2$\\tau$. If you do not calculate the correlation times, your statistical uncertainty will be lower than true uncertainty. Fortunately, many simulation packages come with methods, some of which are more sophisticated than that presented here, to calculate the autocorrelation time."
   ]
  },
  {
   "cell_type": "markdown",
   "id": "5c54b90f-4495-443f-b4ab-a8bfebad68be",
   "metadata": {},
   "source": [
    "### Applying Correlation Corrections\n",
    "Once the time is calculated, you still must apply it to your data. If your free energy method computes single state averages, like [TI](TI), then the average over all samples can be used for your mean; this *included correlated samples.* Your effective variance is then the regular variance multiplied by $\\sqrt{2\\tau/\\Delta t}$ where $\\Delta t$ is the time difference between samples. As an alternate method, or when your averages are not computed from single states, you can *subsample* the data by analyzing only the set of samples separated by 2$\\tau$. Consider the following simple example with [BAR](BAR) wwhere we want the free energy difference between states 1 and 2.\n",
    "\n",
    "* 5 ns of simulation time\n",
    "* 10 ps between each snapshot (500 snapshots total)\n",
    "* Assume autocorrelation for 1 &rarr; 2 of 20ps\n",
    "* Assume autocorrelation for 2 &rarr; 1 of 40ps\n",
    "\n",
    "Under these conditions, when we go to analyze $\\Delta U_{1,2}$, we need every fourth sample as the correlation time is 20 ps and we want samples every 2$\\tau$). Similarly, we should take every eight sample from $\\Delta U_{2,1}$ since the correlation is time is 40 ps and $2\\tau = 80\\,\\mathrm{ps}$. If this is done correctly, we will not have discarded any unique data as the information we ignored is already contained in the samples we kept.\n",
    "\n",
    "True independent samples between configurations is achieved only if *all* coordinates are also uncorrelated between samples, not just energies. Although independent energies usually implies independent samples, there are situations where the energy is approximately independently sampled within the noise, but the configuration space is not as well sampled. This may occur, for example, when a ligand contains a configuration with comparable binding affinity as another, but rarely visits that conformer. If one were looking only at energies, it may be hard to detect this lack of sampling."
   ]
  },
  {
   "cell_type": "code",
   "execution_count": null,
   "id": "77b5e570-f3d6-4108-9818-e7ffd3e1eede",
   "metadata": {},
   "outputs": [],
   "source": []
  }
 ],
 "metadata": {
  "kernelspec": {
   "display_name": "Python 3 (ipykernel)",
   "language": "python",
   "name": "python3"
  },
  "language_info": {
   "codemirror_mode": {
    "name": "ipython",
    "version": 3
   },
   "file_extension": ".py",
   "mimetype": "text/x-python",
   "name": "python",
   "nbconvert_exporter": "python",
   "pygments_lexer": "ipython3",
   "version": "3.12.3"
  }
 },
 "nbformat": 4,
 "nbformat_minor": 5
}
