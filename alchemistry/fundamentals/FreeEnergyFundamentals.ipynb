{
 "cells": [
  {
   "cell_type": "markdown",
   "id": "b9cc9fd4-56b8-4418-8a9e-8a80d37d06e5",
   "metadata": {},
   "source": [
    "(fundamentals)=\n",
    "# Theory and Free Energy Equations"
   ]
  },
  {
   "cell_type": "markdown",
   "id": "82e28a64-060d-4d43-947e-a177c87c4af9",
   "metadata": {},
   "source": [
    "To understand the advantages and disadvantages of different free energy methods, it is important to begin with a review of the underlying principles. This page is dedicated to the most fundamental concepts of free energy calculations and is designed to give an in-depth view of the approaches, starting from the basics. This page also contains some of the common nomenclature and symbols that are seen throughout the rest of the free energy fundamentals pages and in the literature as a whole.\n",
    "\n",
    "This page is not meant to be an end-all repository of the background mathematics and principals required for free energy calculations, but it will serve as a good start point and hopefully a quick reference."
   ]
  },
  {
   "cell_type": "markdown",
   "id": "7299ec53-cdfa-4cbb-b001-4b074170c1bc",
   "metadata": {},
   "source": [
    "## Why the name \"Alchemical\"?\n",
    "One of the first questions, and often most confusing points, about a number of free energy calculations is why we refer to them as \"alchemical\" changes in a large number of computational methods. When people first hear the word \"alchemy,\" they usually think of the medieval alchemists who were trying to turn lead into gold, or other such transformations. How computational free energy adopted the name takes a bit of understanding of simulation limitations and the properties of what we are calculating.\n",
    "\n",
    "Considering that the natural evolution of some of the processes we try to model are well beyond reasonable simulation time scales, we must come up with very efficient ways to compute the free energy differences. Because free energy is a state variable (path independent), we can design simulations that provide a convenient pathway to computing free energy. Furthermore, since we are doing simulations, we are not limited by experimentally observable conditions so long as we are meticulous with our calculations.\n",
    "\n",
    "With these observations in mind, it was found that we can simulate modifications to atoms which can change their properties to reflect non-physical or entirely different species. This is roughly the same definition of alchemy from old in that we are changing the properties of the atoms to be something else, although we do it in a mathematically sound and rigorous manner; hence, the term \"alchemical\" was coined as many free energy calculations are \"like alchemy\" in their pathways and methods.\n",
    "\n",
    "There are of course many factors and checks that must be done to ensure accuracy and robustness of the calculations, many of which will be shown in the rest of the coming free energy fundamentals pages."
   ]
  },
  {
   "cell_type": "markdown",
   "id": "f111f73a-ca5e-4dfa-869b-7995f4607b00",
   "metadata": {},
   "source": [
    "## Assumptions for the Fundamentals\n",
    "The assumptions listed here are carried out through the rest of the fundamentals sections. Free energy calculations can usually be set up without these assumptions, but we'll make these assumptions to simplify the explanations.\n",
    "\n",
    "* **A standard molecular mechanics model will be assumed**; this includes:\n",
    "    * Harmonic bond angle terms\n",
    "    * Periodic dihedral terms\n",
    "    * Non-bonded terms made up of point charges and Lennard-Jones repulsion/dispersion terms\n",
    "* Constant temperature is maintained: (discussed [below](facts_split))\n",
    "**Masses do not alchemically change**. If one wishes to do this, substitute all potential energies, $U$, with the more general Hamiltonian, $\\mathcal{H}$.\n",
    "**QM/MM will not be considered** for fundamental; there are number of other more complicated factors to consider that are beyond the scope of this discussion.[1]"
   ]
  },
  {
   "cell_type": "markdown",
   "id": "7218d38d-a9e3-4785-8fa0-0fb12b7b5154",
   "metadata": {},
   "source": [
    "(core_eq)=\n",
    "## Free Energy Difference Equation"
   ]
  },
  {
   "cell_type": "markdown",
   "id": "442e3abe-9bda-40ce-ae21-4af5c0c28593",
   "metadata": {},
   "source": [
    "Most free energy calculations and methods started from a single core equation derived from statistical mechanics. The free energy difference between two states is directly related to the ratio of probabilities of those states through the partition functions. This free energy difference for an NVT ensemble is\n",
    "\n",
    "$\\displaystyle \\Delta A_{ij} = -k_B T \\ln \\frac{Q_j}{Q_i} = -k_B T \\ln \\frac{\\int_{\\Gamma_j} e^{-\\frac{U_j(\\vec{q})}{k_B T}} d\\vec{q}}{\\int_{\\Gamma_i} e^{-\\frac{U_i(\\vec{q})}{k_B T}}d\\vec{q}}$\n",
    "\n",
    "where $\\Delta A_{ij}$ is the Helmholtz free energy difference between state $j$ and state $i$, $k_B$ the Boltzmann constant, $Q$ the canonical partition function, $T$ is the temperature, $U_i$ and $U_j$ are the potential energies as a function of the coordinates and momenta $\\vec{q}$ for two states, and $\\Gamma_i$ and $\\Gamma_j$ are the *phase space volumes* of $\\vec{q}$ over which we sample, or the total set of all allowed positions and momenta of the system.\n",
    "\n",
    "From this equation, all free energy calculations are derived."
   ]
  },
  {
   "cell_type": "markdown",
   "id": "2d040859-e99f-431d-8073-19e467f315e0",
   "metadata": {},
   "source": [
    "(facts_split)=\n",
    "## Facts from the Free Energy Difference Definition"
   ]
  },
  {
   "cell_type": "markdown",
   "id": "e0cfda4d-b4a9-4c15-a9e1-5aa36cce901e",
   "metadata": {},
   "source": [
    "There are a number of key notes we can learn from the definition of free energy differences. Each of these can be important  in interpreting simulation results.\n",
    "\n",
    "* **Only free energy *differences* are ever calculated.** There is never a calculation where absolute free energies are needed (and rarely can they be calculated at all) as all of the biological or thermodynamical quantities of interest are based on a free energy difference. As such, there must always be a minimum of two defined thermodynamic states.\n",
    "    * Even *absolute* free energies of binding are still free energy differences between two states: the ligand restricted to the binding site, and the ligand free to explore all other configurations.\n",
    "* **Free energy differences between states at different temperatures are usually not what you want to be calculating** for problems of interest.  If it did, you would get $\\Delta A_{ij} = -k_B T_j \\ln Q_j + k_B T_i \\ln Q_i$, which is no longer a ratio calculation and not needed for biological systems of interest. Temperature dependence on free energy is more likely to be \"what is $ \\Delta A_{ij} $ change at two different temperatures?\"\n",
    "* **There are two different phase space volumes.** $\\Gamma_i$ and $\\Gamma_j$ are often the same, but they are not required to be. The methods presented here almost always assumes that the two phase spaces overlap. However, when the spaces do not overlap, these methods break down and it is difficult to identify this problem without in depth knowledge of your system. Consider the example of a hard sphere solute with radius $\\sigma$ at state $i$ and a Lennard Jones repulsion/dispersion potential, with the same $\\sigma$ at state $j$. Since $\\Gamma _i$ will not have molecules at a distance less than $\\sigma$, but $\\Gamma_j$ will, the two phase spaces are not the same and these methods will either break down or return very error-prone results.\n",
    "    * The degree to which the phase spaces are shared is called the \"phase space overlap\". Efficient free energy calculations require significant phase space overlap. There are  [a number of strategies to address](Intermediate_States) lack of overlap between target spaces, but determining the best way for any given situation is still a research question.\n",
    "    * It should also be noted that \"near zero probability\" and \"always zero probability\" are two distinct things when considering phase space. So long as there is a chance for an observation to be made, no matter how small, it is considered part of the phase space."
   ]
  },
  {
   "cell_type": "code",
   "execution_count": null,
   "id": "e854ed91-b221-4757-8d32-a3784a0c73ee",
   "metadata": {},
   "outputs": [],
   "source": []
  }
 ],
 "metadata": {
  "kernelspec": {
   "display_name": "Python 3 (ipykernel)",
   "language": "python",
   "name": "python3"
  },
  "language_info": {
   "codemirror_mode": {
    "name": "ipython",
    "version": 3
   },
   "file_extension": ".py",
   "mimetype": "text/x-python",
   "name": "python",
   "nbconvert_exporter": "python",
   "pygments_lexer": "ipython3",
   "version": "3.12.3"
  }
 },
 "nbformat": 4,
 "nbformat_minor": 5
}
